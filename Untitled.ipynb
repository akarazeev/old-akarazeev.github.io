{
 "cells": [
  {
   "cell_type": "code",
   "execution_count": 1,
   "metadata": {},
   "outputs": [],
   "source": [
    "import os"
   ]
  },
  {
   "cell_type": "code",
   "execution_count": 5,
   "metadata": {},
   "outputs": [],
   "source": [
    "def listdir(dirpath):\n",
    "    res = os.listdir(dirpath)\n",
    "    res = list(filter(lambda x: x.startswith('.') == False, res))\n",
    "    return res\n",
    "    \n",
    "postsfolder = '_mipt-scitech-club/'\n",
    "posts = listdir(postsfolder)"
   ]
  },
  {
   "cell_type": "code",
   "execution_count": 6,
   "metadata": {},
   "outputs": [
    {
     "data": {
      "text/plain": [
       "['10-dl.markdown',\n",
       " 'eric-gaussier.markdown',\n",
       " '1-q.markdown',\n",
       " '8-dl.markdown',\n",
       " '1-b.markdown',\n",
       " '13-dl.markdown',\n",
       " '7-dl.markdown',\n",
       " '9-dl.markdown',\n",
       " '11-dl.markdown',\n",
       " '6-dl.markdown',\n",
       " '12-dl.markdown',\n",
       " 'michael-chertkov.markdown',\n",
       " '2-q.markdown']"
      ]
     },
     "execution_count": 6,
     "metadata": {},
     "output_type": "execute_result"
    }
   ],
   "source": [
    "posts"
   ]
  },
  {
   "cell_type": "code",
   "execution_count": 4,
   "metadata": {},
   "outputs": [],
   "source": [
    "for lang in ['en', 'ru']:\n",
    "    for tmp in posts:\n",
    "        postpath = os.path.join(postsfolder, tmp)\n",
    "        with open(postpath, 'rb') as f:\n",
    "            postdata = f.readlines()\n",
    "\n",
    "        titleindex = list(filter(lambda x: 'title'.encode() in x[1], enumerate(postdata)))[0][0]\n",
    "        postnameclean = tmp[(4 + 2*2 + 3):].split('.')[0]\n",
    "        ref = postnameclean.replace('_', '').replace('-', '') + ''.join(tmp.split('-')[:3])[2:]\n",
    "\n",
    "        if lang == 'en':\n",
    "            postdata.insert(titleindex + 1, \"redirect_from: \\\"/{}\\\"\\n\".format(postnameclean).encode())\n",
    "            postdata.insert(titleindex + 2, \"lang: {}\\n\".format(lang).encode())\n",
    "            postdata.insert(titleindex + 3, \"ref: {}\\n\".format(ref).encode())\n",
    "        else:\n",
    "            postdata.insert(titleindex + 1, \"lang: {}\\n\".format(lang).encode())\n",
    "            postdata.insert(titleindex + 2, \"ref: {}\\n\".format(ref).encode())\n",
    "\n",
    "        newpostsfolder = 'new_posts'\n",
    "        newpostname = postnameclean.replace('_', '-') + '-{}'.format(lang)\n",
    "        newpostname = tmp.replace(postnameclean, newpostname)\n",
    "        \n",
    "        with open(os.path.join(newpostsfolder, newpostname), 'wb') as f:\n",
    "            f.writelines(postdata)"
   ]
  },
  {
   "cell_type": "code",
   "execution_count": 9,
   "metadata": {},
   "outputs": [
    {
     "data": {
      "text/plain": [
       "'2q'"
      ]
     },
     "execution_count": 9,
     "metadata": {},
     "output_type": "execute_result"
    }
   ],
   "source": [
    "postnameclean.replace('_', '').replace('-', '')"
   ]
  },
  {
   "cell_type": "code",
   "execution_count": 10,
   "metadata": {},
   "outputs": [],
   "source": [
    "for lang in ['en', 'ru']:\n",
    "    for tmp in posts:\n",
    "        postpath = os.path.join(postsfolder, tmp)\n",
    "        with open(postpath, 'rb') as f:\n",
    "            postdata = f.readlines()\n",
    "\n",
    "        titleindex = list(filter(lambda x: 'title'.encode() in x[1], enumerate(postdata)))[0][0]\n",
    "        postnameclean = tmp.split('.')[0]\n",
    "        ref = postnameclean.replace('_', '').replace('-', '')\n",
    "\n",
    "        if lang == 'en':\n",
    "            postdata.insert(titleindex + 1, \"redirect_from: \\\"/{}\\\"\\n\".format(postnameclean).encode())\n",
    "            postdata.insert(titleindex + 2, \"lang: {}\\n\".format(lang).encode())\n",
    "            postdata.insert(titleindex + 3, \"ref: {}\\n\".format(ref).encode())\n",
    "        else:\n",
    "            postdata.insert(titleindex + 1, \"lang: {}\\n\".format(lang).encode())\n",
    "            postdata.insert(titleindex + 2, \"ref: {}\\n\".format(ref).encode())\n",
    "\n",
    "        newpostsfolder = 'new_posts'\n",
    "        newpostname = postnameclean.replace('_', '-') + '-{}'.format(lang)\n",
    "        newpostname = tmp.replace(postnameclean, newpostname)\n",
    "        \n",
    "        with open(os.path.join(newpostsfolder, newpostname), 'wb') as f:\n",
    "            f.writelines(postdata)"
   ]
  }
 ],
 "metadata": {
  "kernelspec": {
   "display_name": "Python 3",
   "language": "python",
   "name": "python3"
  },
  "language_info": {
   "codemirror_mode": {
    "name": "ipython",
    "version": 3
   },
   "file_extension": ".py",
   "mimetype": "text/x-python",
   "name": "python",
   "nbconvert_exporter": "python",
   "pygments_lexer": "ipython3",
   "version": "3.7.1"
  }
 },
 "nbformat": 4,
 "nbformat_minor": 2
}
